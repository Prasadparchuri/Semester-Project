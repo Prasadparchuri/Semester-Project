{
 "cells": [
  {
   "cell_type": "code",
   "execution_count": 2,
   "metadata": {},
   "outputs": [],
   "source": [
    "#importing the modules \n",
    "import glob\n",
    "import pandas as pd\n",
    "\n",
    "\n"
   ]
  },
  {
   "cell_type": "code",
   "execution_count": 6,
   "metadata": {},
   "outputs": [
    {
     "name": "stdout",
     "output_type": "stream",
     "text": [
      "    NL FA    Mass Compound Name      QC06\n",
      "59   16:0  824.77     TAG(48:0)  0.000191\n",
      "67   16:0  850.78     TAG(50:1)  0.003544\n",
      "179  18:1  850.78     TAG(50:1)  0.001100\n",
      "66   16:0  848.77     TAG(50:2)  0.004409\n",
      "10   16:1  848.77     TAG(50:2)  0.000200\n",
      "178  18:1  848.77     TAG(50:2)  0.000200\n",
      "234  18:2  848.77     TAG(50:2)  0.001900\n",
      "65   16:0  846.75     TAG(50:3)  0.004912\n",
      "9    16:1  846.75     TAG(50:3)  0.000200\n",
      "233  18:2  846.75     TAG(50:3)  0.000200\n",
      "289  18:3  846.75     TAG(50:3)  0.002600\n",
      "64   16:0  844.74     TAG(50:4)  0.001559\n",
      "8    16:1  844.74     TAG(50:4)  0.000300\n",
      "288  18:3  844.74     TAG(50:4)  0.000500\n",
      "344  18:4  844.74     TAG(50:4)  0.001300\n",
      "287  18:3  842.72     TAG(50:5)  0.000200\n",
      "343  18:4  842.72     TAG(50:5)  0.000200\n",
      "286  18:3  840.71     TAG(50:6)  0.000500\n",
      "285  18:3  838.69     TAG(50:7)  0.000200\n",
      "341  18:4  838.69     TAG(50:7)  0.000300\n",
      "302  18:3  880.83     TAG(52:0)  0.000700\n",
      "358  18:4  880.83     TAG(52:0)  0.000600\n",
      "77   16:0  878.81     TAG(52:1)  0.000919\n",
      "133  18:0  878.81     TAG(52:1)  0.001000\n",
      "189  18:1  878.81     TAG(52:1)  0.000400\n",
      "301  18:3  878.81     TAG(52:1)  0.000200\n",
      "357  18:4  878.81     TAG(52:1)  0.000400\n",
      "76   16:0  876.80     TAG(52:2)  0.006471\n",
      "132  18:0  876.80     TAG(52:2)  0.001200\n",
      "188  18:1  876.80     TAG(52:2)  0.008633\n",
      "..    ...     ...           ...       ...\n",
      "373  18:4  920.77     TAG(56:8)  0.004567\n",
      "429  20:0  920.77     TAG(56:8)  0.001800\n",
      "485  20:1  920.77     TAG(56:8)  0.006500\n",
      "541  20:2  920.77     TAG(56:8)  0.005700\n",
      "597  20:3  920.77     TAG(56:8)  0.000400\n",
      "316  18:3  918.75     TAG(56:9)  0.001100\n",
      "372  18:4  918.75     TAG(56:9)  0.002300\n",
      "428  20:0  918.75     TAG(56:9)  0.000300\n",
      "484  20:1  918.75     TAG(56:9)  0.001200\n",
      "540  20:2  918.75     TAG(56:9)  0.002200\n",
      "596  20:3  918.75     TAG(56:9)  0.000500\n",
      "106  16:0  958.88     TAG(58:3)  0.000158\n",
      "218  18:1  958.88     TAG(58:3)  0.000200\n",
      "274  18:2  958.88     TAG(58:3)  0.000200\n",
      "217  18:1  956.86     TAG(58:4)  0.000200\n",
      "273  18:2  956.86     TAG(58:4)  0.000200\n",
      "329  18:3  956.86     TAG(58:4)  0.000300\n",
      "497  20:1  956.86     TAG(58:4)  0.000200\n",
      "216  18:1  954.85     TAG(58:5)  0.000200\n",
      "272  18:2  954.85     TAG(58:5)  0.000200\n",
      "328  18:3  954.85     TAG(58:5)  0.000300\n",
      "384  18:4  954.85     TAG(58:5)  0.000200\n",
      "496  20:1  954.85     TAG(58:5)  0.000300\n",
      "271  18:2  952.83     TAG(58:6)  0.000300\n",
      "327  18:3  952.83     TAG(58:6)  0.000400\n",
      "383  18:4  952.83     TAG(58:6)  0.000200\n",
      "495  20:1  952.83     TAG(58:6)  0.000200\n",
      "551  20:2  952.83     TAG(58:6)  0.000200\n",
      "326  18:3  950.81     TAG(58:7)  0.000800\n",
      "382  18:4  950.81     TAG(58:7)  0.000300\n",
      "\n",
      "[235 rows x 4 columns]\n"
     ]
    }
   ],
   "source": [
    "#Reading the files\n",
    "dataset_dir = '/users/prasadparchuri/Desktop/Coding/Semester-Project/'\n",
    "glob.os.chdir(dataset_dir)\n",
    "\n",
    "#reading the file having four columns(Col1 = NL FA; col2 = Mass; Col3 = Compound name; Col4 = sample signal)\n",
    "data=pd.read_excel(\"TAG coding.xlsx\") \n",
    "\n",
    "# Filtering the data and removing mass with signal lessthan equal to 0.00015\n",
    "data.drop(data.loc[data['QC06']<=0.000150].index, inplace=True) \n",
    "\n",
    "# sorting (Ascending) the data based on Compound name and then NL FA\n",
    "data.sort_values([\"Compound Name\", \"NL FA\"], axis=0, ascending=True, inplace=True) \n",
    "print(data)"
   ]
  },
  {
   "cell_type": "code",
   "execution_count": 10,
   "metadata": {},
   "outputs": [
    {
     "name": "stdout",
     "output_type": "stream",
     "text": [
      "[('16:0', '16:1', '18:1'), ('16:0', '16:1', '18:2'), ('16:0', '18:1', '18:2'), ('16:1', '18:1', '18:2')]\n"
     ]
    }
   ],
   "source": [
    "# Defining the function\n",
    "from itertools import combinations \n",
    "\n",
    "def TAGcombinations(arr, r): \n",
    "    '''Need to write coding that will give TAG combinations based on Total carbon: Double bonds. For example, TAG(50:2) is identified at \n",
    "        16:0, 16:1, 18:1, 18:2. It will form TAG combinations as 16:0-16:0-18:2, 16:0-16:1-18:1.'''\n",
    "\n",
    "    return list(combinations(arr, r)) # return list of all TAGcombinations of length r \n",
    "                                      # to deal with duplicate subsets use set(list(combinations(arr, r))) \n",
    "                                        \n",
    "\n",
    "#calling the  Function \n",
    " \n",
    "arr = [\"16:0\", \"16:1\", \"18:1\", \"18:2\"] \n",
    "r = 3\n",
    "X = TAGcombinations(arr, r)\n",
    "print(X)"
   ]
  }
 ],
 "metadata": {
  "kernelspec": {
   "display_name": "Python 3",
   "language": "python",
   "name": "python3"
  },
  "language_info": {
   "codemirror_mode": {
    "name": "ipython",
    "version": 3
   },
   "file_extension": ".py",
   "mimetype": "text/x-python",
   "name": "python",
   "nbconvert_exporter": "python",
   "pygments_lexer": "ipython3",
   "version": "3.7.1"
  }
 },
 "nbformat": 4,
 "nbformat_minor": 2
}
