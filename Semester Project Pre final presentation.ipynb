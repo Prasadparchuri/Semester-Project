{
 "cells": [
  {
   "cell_type": "markdown",
   "metadata": {},
   "source": [
    "# Project title:Assembly of Triacylglycerol (TAG) molecular species using fatty acids\n",
    "\n",
    "*Name* : Prasad Parchuri <br/>\n",
    "**Semester**: Spring 2019 <br/>\n",
    "**Project area**: Lipids"
   ]
  },
  {
   "cell_type": "markdown",
   "metadata": {},
   "source": [
    "For project overview read the Project proposal markdown file"
   ]
  },
  {
   "cell_type": "markdown",
   "metadata": {},
   "source": [
    "**Step 1:** Importing the modules"
   ]
  },
  {
   "cell_type": "code",
   "execution_count": null,
   "metadata": {},
   "outputs": [],
   "source": [
    "#importing the modules \n",
    "\n",
    "import glob\n",
    "import pandas as pd"
   ]
  },
  {
   "cell_type": "markdown",
   "metadata": {},
   "source": [
    "**Step 2:**\n",
    "Input file = out put file from lipidomeDB website.\n",
    "The data from mass spectrometry is exported as excel file. This file is processed for isotopic correction and nmol calculation using lipidomeDB website. The output file is used as input file here to generate TAG combinations."
   ]
  },
  {
   "cell_type": "code",
   "execution_count": null,
   "metadata": {},
   "outputs": [],
   "source": [
    "#Reading the files\n",
    "\n",
    "dataset_dir = '/users/prasadparchuri/Desktop/Coding/Semester-Project/'\n",
    "glob.os.chdir(dataset_dir)\n",
    "\n",
    "#reading the file having four columns(Col1 = NL FA; col2 = Mass; Col3 = Compound name; Col4 = sample signal)\n",
    "data=pd.read_excel(\"TAG coding.xlsx\") \n",
    "data"
   ]
  },
  {
   "cell_type": "markdown",
   "metadata": {},
   "source": [
    "**Step 3:**\n",
    "Filtering the data and removing mass with signal less than equal to 0.00015. This required because of background noise data from mass spec needs to removed. \n",
    "Then sorting the data based on coumpound name. This will align Neutral loss (NL) of all the Fatty acids identified at each mass. During data aquisition by Mass Spec, NL of each fatty acids is scanned at all the mass and the out put file will have NL of each FA at identified at different masses. By sorting the data we can realign the data as Neutral loss (NL) of all Fatty acids identified at each mass which is essential for generating the TAG combination."
   ]
  },
  {
   "cell_type": "code",
   "execution_count": null,
   "metadata": {},
   "outputs": [],
   "source": [
    "\n",
    "data.drop(data.loc[data['QC06']<=0.000150].index, inplace=True) \n",
    "\n",
    "# sorting (Ascending) the data based on Compound name and then NL FA\n",
    "data.sort_values([\"Compound Name\"], axis=0, ascending=True, inplace=True) \n",
    "data.to_csv(r'export_dataframe.csv')\n"
   ]
  },
  {
   "cell_type": "markdown",
   "metadata": {},
   "source": [
    "\n",
    "**Step 4:**\n",
    "Defining the function to generate all possible combinations of TAG by using  NL of all fatty acids identified at each mass.\n",
    "For example, NL of 16:0, 16:1, 18:1 and 18:2 fatty acids gave signal at the mass 848 which is TAG(50:2). 50:2 means 50 carbon: 2 double bonds. \n",
    "\n",
    "Assembling this will give two possible combinations of TAG 16:0-16:0-18:2 and 16:0-16:1-18:1 based on NL of Fatty acids. The sum of all the carbon : sum of all the double bonds in each TAG species (i.e.,for TAG 16:0-16:0-18:2 = 16+16+18 : 0+0+2) should be equal to TAG Total carbon: double bond i.e., TAG(50:2) \n",
    "Here, I am using mass of each fatty acid to form combinations instead of FA.\n",
    "\n",
    "FA     MASS\n",
    "16:0 = 253\n",
    "16:1 = 255\n",
    "18:1 = 281\n",
    "18:2 = 279\n",
    "\n",
    "Traiacylglycerols have three fatty acids attached to glycerol. Hence TAG mass = the sum of mass of all the three fatty acids esterified to glycerol backbone (mass= 59)."
   ]
  },
  {
   "cell_type": "code",
   "execution_count": 10,
   "metadata": {},
   "outputs": [
    {
     "name": "stdout",
     "output_type": "stream",
     "text": [
      "(253, 255, 281)\n",
      "(255, 255, 279)\n"
     ]
    }
   ],
   "source": [
    "# Defining the function\n",
    "from itertools import combinations_with_replacement \n",
    "\n",
    "def TAGcombinations(arr, r): \n",
    "    \n",
    "        \n",
    "        return list(combinations_with_replacement(arr, r)) # return list of all TAGcombinations of length r \n",
    "                                    # to deal with duplicate subsets use set(list(combinations(arr, r)))                                         \n",
    "\n",
    "        \n",
    "#calling the  Function and selecting the TAG combination species with C50:2 mass 848\n",
    "\n",
    "arr = [253, 255, 281, 279] \n",
    "r = 3\n",
    "X = TAGcombinations(arr, r)\n",
    "for i in (X[0:]):\n",
    "    if sum((i[0:]))+59 == 848:\n",
    "        print(i)          # 'i' is the possible TAG combinations at mass 848 (TAG - 50:2).\n",
    "        \n",
    "        \n",
    "        "
   ]
  },
  {
   "cell_type": "markdown",
   "metadata": {},
   "source": [
    "# Roadblock\n",
    "The above code is for single mass. The code needs to improved to read the mass and NL of fatty acids data from the excel sheet and generate the possble combinations."
   ]
  }
 ],
 "metadata": {
  "kernelspec": {
   "display_name": "Python 3",
   "language": "python",
   "name": "python3"
  },
  "language_info": {
   "codemirror_mode": {
    "name": "ipython",
    "version": 3
   },
   "file_extension": ".py",
   "mimetype": "text/x-python",
   "name": "python",
   "nbconvert_exporter": "python",
   "pygments_lexer": "ipython3",
   "version": "3.7.1"
  }
 },
 "nbformat": 4,
 "nbformat_minor": 2
}
