{
 "cells": [
  {
   "cell_type": "code",
   "execution_count": 12,
   "metadata": {},
   "outputs": [
    {
     "name": "stdout",
     "output_type": "stream",
     "text": [
      "[('18:3', '18:2', '18:4'), ('18:3', '18:2', '18:1'), ('18:3', '18:4', '18:1'), ('18:2', '18:4', '18:1')]\n"
     ]
    }
   ],
   "source": [
    "# Defining the function\n",
    "from itertools import combinations \n",
    "\n",
    "def TAGcombinations(arr, r): \n",
    "    \n",
    "\n",
    "    return list(combinations(arr, r)) # return list of all TAGcombinations of length r \n",
    "                                      # to deal with duplicate subsets use set(list(combinations(arr, r))) \n",
    "                                        \n",
    "\n",
    "#calling the  Function \n",
    " \n",
    "arr = [\"18:3\", \"18:2\", \"18:4\", \"18:1\"] \n",
    "r = 3\n",
    "X = TAGcombinations(arr, r)\n",
    "print(X)"
   ]
  }
 ],
 "metadata": {
  "kernelspec": {
   "display_name": "Python 3",
   "language": "python",
   "name": "python3"
  },
  "language_info": {
   "codemirror_mode": {
    "name": "ipython",
    "version": 3
   },
   "file_extension": ".py",
   "mimetype": "text/x-python",
   "name": "python",
   "nbconvert_exporter": "python",
   "pygments_lexer": "ipython3",
   "version": "3.7.1"
  }
 },
 "nbformat": 4,
 "nbformat_minor": 2
}
